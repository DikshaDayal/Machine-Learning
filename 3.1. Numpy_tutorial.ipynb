{
  "nbformat": 4,
  "nbformat_minor": 0,
  "metadata": {
    "colab": {
      "provenance": [],
      "authorship_tag": "ABX9TyOLfs6zbCLcSvr/Q7Tslh7s",
      "include_colab_link": true
    },
    "kernelspec": {
      "name": "python3",
      "display_name": "Python 3"
    },
    "language_info": {
      "name": "python"
    }
  },
  "cells": [
    {
      "cell_type": "markdown",
      "metadata": {
        "id": "view-in-github",
        "colab_type": "text"
      },
      "source": [
        "<a href=\"https://colab.research.google.com/github/DikshaDayal/Machine-Learning/blob/main/3.1.%20Numpy_tutorial.ipynb\" target=\"_parent\"><img src=\"https://colab.research.google.com/assets/colab-badge.svg\" alt=\"Open In Colab\"/></a>"
      ]
    },
    {
      "cell_type": "markdown",
      "source": [
        "Numpy :- Numerical Python\n",
        "\n",
        "Advantages of Numpy Arrays:-\n",
        "1. Allow several Mathematical Operations\n",
        "2. Fastest operations"
      ],
      "metadata": {
        "id": "Hd5UCXl9ORM3"
      }
    },
    {
      "cell_type": "code",
      "execution_count": 1,
      "metadata": {
        "id": "qaKNrR1aNtxT"
      },
      "outputs": [],
      "source": [
        "import numpy as np"
      ]
    },
    {
      "cell_type": "markdown",
      "source": [
        "List Vs Numpy"
      ],
      "metadata": {
        "id": "s85w2FI2O_h9"
      }
    },
    {
      "cell_type": "code",
      "source": [
        "from time import process_time"
      ],
      "metadata": {
        "id": "OOD1G_fbOy9_"
      },
      "execution_count": 2,
      "outputs": []
    },
    {
      "cell_type": "markdown",
      "source": [
        "Time taken by a list"
      ],
      "metadata": {
        "id": "nGOKO9qEPSxD"
      }
    },
    {
      "cell_type": "code",
      "source": [
        "Python_list = [i for i in range(10000)]\n",
        "\n",
        "start_time = process_time()\n",
        "\n",
        "Python_list =  [i+5 for i in Python_list]\n",
        "\n",
        "end_time = process_time()\n",
        "\n",
        "print(end_time - start_time)"
      ],
      "metadata": {
        "colab": {
          "base_uri": "https://localhost:8080/"
        },
        "id": "fgKDVnOaPR_C",
        "outputId": "df90014b-2503-45b3-92e8-2cbebb03e1ac"
      },
      "execution_count": 3,
      "outputs": [
        {
          "output_type": "stream",
          "name": "stdout",
          "text": [
            "0.0017175370000002133\n"
          ]
        }
      ]
    },
    {
      "cell_type": "code",
      "source": [
        "np_array = np.array([i for i in range(10000)])\n",
        "\n",
        "start_time = process_time()\n",
        "\n",
        "np_array += 5\n",
        "\n",
        "end_time = process_time()\n",
        "\n",
        "print(end_time - start_time)"
      ],
      "metadata": {
        "colab": {
          "base_uri": "https://localhost:8080/"
        },
        "id": "4aAm4XnmP3Ah",
        "outputId": "bfa33143-969e-4932-b908-14ec81ec02fa"
      },
      "execution_count": 9,
      "outputs": [
        {
          "output_type": "stream",
          "name": "stdout",
          "text": [
            "0.0012873209999995083\n"
          ]
        }
      ]
    },
    {
      "cell_type": "markdown",
      "source": [
        "Numpy Arrays"
      ],
      "metadata": {
        "id": "FA_4dkxOQzbe"
      }
    },
    {
      "cell_type": "code",
      "source": [
        "#List\n",
        "list1 = [1,2,3,4,5]\n",
        "print(list1)\n",
        "type(list1)"
      ],
      "metadata": {
        "colab": {
          "base_uri": "https://localhost:8080/"
        },
        "id": "UvKhJ36tQNYS",
        "outputId": "574b5866-5ceb-41d9-bef8-8d403057980e"
      },
      "execution_count": 10,
      "outputs": [
        {
          "output_type": "stream",
          "name": "stdout",
          "text": [
            "[1, 2, 3, 4, 5]\n"
          ]
        },
        {
          "output_type": "execute_result",
          "data": {
            "text/plain": [
              "list"
            ]
          },
          "metadata": {},
          "execution_count": 10
        }
      ]
    },
    {
      "cell_type": "code",
      "source": [
        "np_array = np.array([1,2,3,4,5])\n",
        "print(np_array)\n",
        "type(np_array)"
      ],
      "metadata": {
        "colab": {
          "base_uri": "https://localhost:8080/"
        },
        "id": "vnPZ506IQ57U",
        "outputId": "83c7da78-8af0-4722-d5d1-2e9ceb1a2513"
      },
      "execution_count": 12,
      "outputs": [
        {
          "output_type": "stream",
          "name": "stdout",
          "text": [
            "[1 2 3 4 5]\n"
          ]
        },
        {
          "output_type": "execute_result",
          "data": {
            "text/plain": [
              "numpy.ndarray"
            ]
          },
          "metadata": {},
          "execution_count": 12
        }
      ]
    },
    {
      "cell_type": "markdown",
      "source": [
        "Creating a One Dimensional array"
      ],
      "metadata": {
        "id": "MgqzyRRnRMN4"
      }
    },
    {
      "cell_type": "code",
      "source": [
        "#creating a one dimensional Array\n",
        "a = np.array([1,2,3,4])\n",
        "print(a)"
      ],
      "metadata": {
        "colab": {
          "base_uri": "https://localhost:8080/"
        },
        "id": "Ja2_67nRRC7j",
        "outputId": "471a3396-4c28-4de6-d09a-a83851a0e609"
      },
      "execution_count": 13,
      "outputs": [
        {
          "output_type": "stream",
          "name": "stdout",
          "text": [
            "[1 2 3 4]\n"
          ]
        }
      ]
    },
    {
      "cell_type": "code",
      "source": [
        "a.shape  # Number of rows and columns"
      ],
      "metadata": {
        "colab": {
          "base_uri": "https://localhost:8080/"
        },
        "id": "Gtwgs9j_RWoT",
        "outputId": "58a5b14d-b329-4655-ce0c-2b3b695a13e3"
      },
      "execution_count": 15,
      "outputs": [
        {
          "output_type": "execute_result",
          "data": {
            "text/plain": [
              "(4,)"
            ]
          },
          "metadata": {},
          "execution_count": 15
        }
      ]
    },
    {
      "cell_type": "code",
      "source": [
        "#2-D Array\n",
        "b = np.array([(1,2,3),(3,2,1)])\n",
        "print(b)"
      ],
      "metadata": {
        "colab": {
          "base_uri": "https://localhost:8080/"
        },
        "id": "nsEJRv9URZTT",
        "outputId": "eb6e6acf-210a-4df3-881e-64325d38bad0"
      },
      "execution_count": 17,
      "outputs": [
        {
          "output_type": "stream",
          "name": "stdout",
          "text": [
            "[[1 2 3]\n",
            " [3 2 1]]\n"
          ]
        }
      ]
    },
    {
      "cell_type": "code",
      "source": [
        "b.shape"
      ],
      "metadata": {
        "colab": {
          "base_uri": "https://localhost:8080/"
        },
        "id": "ROkCSuRlRqBi",
        "outputId": "9ce01836-3897-4fbe-df87-86fefd59c738"
      },
      "execution_count": 18,
      "outputs": [
        {
          "output_type": "execute_result",
          "data": {
            "text/plain": [
              "(2, 3)"
            ]
          },
          "metadata": {},
          "execution_count": 18
        }
      ]
    },
    {
      "cell_type": "code",
      "source": [
        "c = np.array([(1,2,3,4),(5,6,7,8)] , dtype = float)\n",
        "print(c)"
      ],
      "metadata": {
        "colab": {
          "base_uri": "https://localhost:8080/"
        },
        "id": "nNp9y0CmRylT",
        "outputId": "050a5632-c207-426d-f2cf-0bc4d49ce264"
      },
      "execution_count": 19,
      "outputs": [
        {
          "output_type": "stream",
          "name": "stdout",
          "text": [
            "[[1. 2. 3. 4.]\n",
            " [5. 6. 7. 8.]]\n"
          ]
        }
      ]
    },
    {
      "cell_type": "markdown",
      "source": [
        " Initial placeholders in numpy array"
      ],
      "metadata": {
        "id": "N4kRQuvTSVL7"
      }
    },
    {
      "cell_type": "code",
      "source": [
        "#create a numpy of zero\n",
        "x = np.zeros((4,5))\n",
        "print(x)"
      ],
      "metadata": {
        "colab": {
          "base_uri": "https://localhost:8080/"
        },
        "id": "gxpenosRSQxz",
        "outputId": "69cac298-8f9b-4e44-b5ca-0fb96fe83537"
      },
      "execution_count": 20,
      "outputs": [
        {
          "output_type": "stream",
          "name": "stdout",
          "text": [
            "[[0. 0. 0. 0. 0.]\n",
            " [0. 0. 0. 0. 0.]\n",
            " [0. 0. 0. 0. 0.]\n",
            " [0. 0. 0. 0. 0.]]\n"
          ]
        }
      ]
    },
    {
      "cell_type": "code",
      "source": [
        "#create a numpy of ones\n",
        "y = np.ones((4,4))\n",
        "print(y)"
      ],
      "metadata": {
        "colab": {
          "base_uri": "https://localhost:8080/"
        },
        "id": "l-BAncuESi30",
        "outputId": "34bbcd3c-88df-4b0b-b26e-b098bfc9fc3b"
      },
      "execution_count": 21,
      "outputs": [
        {
          "output_type": "stream",
          "name": "stdout",
          "text": [
            "[[1. 1. 1. 1.]\n",
            " [1. 1. 1. 1.]\n",
            " [1. 1. 1. 1.]\n",
            " [1. 1. 1. 1.]]\n"
          ]
        }
      ]
    },
    {
      "cell_type": "code",
      "source": [
        "#array of a particular value\n",
        "z = np.full((3,3),5)\n",
        "print(z)"
      ],
      "metadata": {
        "colab": {
          "base_uri": "https://localhost:8080/"
        },
        "id": "Ex4_PXgjSrEC",
        "outputId": "9bde2de1-c796-44dc-8216-b0c9af86e456"
      },
      "execution_count": 23,
      "outputs": [
        {
          "output_type": "stream",
          "name": "stdout",
          "text": [
            "[[5 5 5]\n",
            " [5 5 5]\n",
            " [5 5 5]]\n"
          ]
        }
      ]
    },
    {
      "cell_type": "code",
      "source": [
        "#create an Identity matrix\n",
        "w = np.eye(4)\n",
        "print(w)"
      ],
      "metadata": {
        "colab": {
          "base_uri": "https://localhost:8080/"
        },
        "id": "6w4TA45VS2iy",
        "outputId": "2210d433-e5cd-47f2-f409-c40dd3918952"
      },
      "execution_count": 26,
      "outputs": [
        {
          "output_type": "stream",
          "name": "stdout",
          "text": [
            "[[1. 0. 0. 0.]\n",
            " [0. 1. 0. 0.]\n",
            " [0. 0. 1. 0.]\n",
            " [0. 0. 0. 1.]]\n"
          ]
        }
      ]
    },
    {
      "cell_type": "code",
      "source": [
        "#create a numpy arrays with random value\n",
        "b = np.random.random((3,4))\n",
        "print(b)"
      ],
      "metadata": {
        "colab": {
          "base_uri": "https://localhost:8080/"
        },
        "id": "MU1RwhP1TBkS",
        "outputId": "7bd15e8f-c4b3-47f5-f7b1-d3c9caa4f117"
      },
      "execution_count": 27,
      "outputs": [
        {
          "output_type": "stream",
          "name": "stdout",
          "text": [
            "[[0.3019739  0.9162968  0.95740068 0.06605905]\n",
            " [0.99193202 0.65213267 0.61389349 0.22057369]\n",
            " [0.56052091 0.19935479 0.928833   0.87909306]]\n"
          ]
        }
      ]
    },
    {
      "cell_type": "code",
      "source": [
        "# random integer values array within a specific range\n",
        "c = np.random.randint(10,100,(3,5))\n",
        "print(c)"
      ],
      "metadata": {
        "colab": {
          "base_uri": "https://localhost:8080/"
        },
        "id": "lZyqU5UITcUR",
        "outputId": "f8c9c257-b5bf-4d48-b343-d0bbd2e40994"
      },
      "execution_count": 29,
      "outputs": [
        {
          "output_type": "stream",
          "name": "stdout",
          "text": [
            "[[43 35 48 12 33]\n",
            " [57 24 35 37 75]\n",
            " [53 99 60 88 21]]\n"
          ]
        }
      ]
    },
    {
      "cell_type": "code",
      "source": [
        "# array of eveenly spaced values\n",
        "# (first two value represents the range and the third number reprenting the number of elements)\n",
        "d = np.linspace(10,30,5)\n",
        "print(d)"
      ],
      "metadata": {
        "colab": {
          "base_uri": "https://localhost:8080/"
        },
        "id": "2e-G8tbRTisS",
        "outputId": "b6d968f2-05c5-40ef-da68-36a6d448338b"
      },
      "execution_count": 35,
      "outputs": [
        {
          "output_type": "stream",
          "name": "stdout",
          "text": [
            "[10. 15. 20. 25. 30.]\n"
          ]
        }
      ]
    },
    {
      "cell_type": "code",
      "source": [
        "# Here we are specifying the step size of it\n",
        "d = np.arange(10,30,2)\n",
        "print(d)"
      ],
      "metadata": {
        "colab": {
          "base_uri": "https://localhost:8080/"
        },
        "id": "WMdL0TNgUEUS",
        "outputId": "ec213037-9476-466f-e709-25b95ead99a7"
      },
      "execution_count": 36,
      "outputs": [
        {
          "output_type": "stream",
          "name": "stdout",
          "text": [
            "[10 12 14 16 18 20 22 24 26 28]\n"
          ]
        }
      ]
    },
    {
      "cell_type": "code",
      "source": [
        "# convert a list to an array\n",
        "list2 = [1,2,3,4,5]\n",
        "\n",
        "np_array = np.asarray(list2)\n",
        "print(np_array)\n",
        "type(np_array)"
      ],
      "metadata": {
        "colab": {
          "base_uri": "https://localhost:8080/"
        },
        "id": "fJ9gddu_UR6C",
        "outputId": "09a7500a-7641-4a7e-bead-9d71740cbc79"
      },
      "execution_count": 39,
      "outputs": [
        {
          "output_type": "stream",
          "name": "stdout",
          "text": [
            "[1 2 3 4 5]\n"
          ]
        },
        {
          "output_type": "execute_result",
          "data": {
            "text/plain": [
              "numpy.ndarray"
            ]
          },
          "metadata": {},
          "execution_count": 39
        }
      ]
    },
    {
      "cell_type": "markdown",
      "source": [
        "Analysing a Numpy Array"
      ],
      "metadata": {
        "id": "_vTrtBf8VM8l"
      }
    },
    {
      "cell_type": "code",
      "source": [
        "c = np.random.randint(10,100,(5,5))\n",
        "print(c)"
      ],
      "metadata": {
        "colab": {
          "base_uri": "https://localhost:8080/"
        },
        "id": "lBOvxlf4U_RD",
        "outputId": "06b0170e-5a76-43cc-864a-c993defefb42"
      },
      "execution_count": 40,
      "outputs": [
        {
          "output_type": "stream",
          "name": "stdout",
          "text": [
            "[[55 61 32 36 65]\n",
            " [87 88 32 20 29]\n",
            " [45 63 22 48 85]\n",
            " [37 71 88 65 98]\n",
            " [73 55 61 87 84]]\n"
          ]
        }
      ]
    },
    {
      "cell_type": "code",
      "source": [
        "#array Dimensions\n",
        "print(c.shape)"
      ],
      "metadata": {
        "colab": {
          "base_uri": "https://localhost:8080/"
        },
        "id": "uMioJSx_VX8C",
        "outputId": "8f887cdd-240f-499d-ac84-e7506d8dd896"
      },
      "execution_count": 41,
      "outputs": [
        {
          "output_type": "stream",
          "name": "stdout",
          "text": [
            "(5, 5)\n"
          ]
        }
      ]
    },
    {
      "cell_type": "code",
      "source": [
        "#Number Of dimensions\n",
        "print(c.ndim)"
      ],
      "metadata": {
        "colab": {
          "base_uri": "https://localhost:8080/"
        },
        "id": "wk9J-tuzVdiB",
        "outputId": "b600dc15-7dab-4507-9da1-aff65898a7c5"
      },
      "execution_count": 42,
      "outputs": [
        {
          "output_type": "stream",
          "name": "stdout",
          "text": [
            "2\n"
          ]
        }
      ]
    },
    {
      "cell_type": "code",
      "source": [
        "#Number of Elements in the array\n",
        "print(c.size)"
      ],
      "metadata": {
        "colab": {
          "base_uri": "https://localhost:8080/"
        },
        "id": "8iPGBbWWVnhi",
        "outputId": "9cbde7ca-3783-4c68-bdd8-03ad9a50e388"
      },
      "execution_count": 43,
      "outputs": [
        {
          "output_type": "stream",
          "name": "stdout",
          "text": [
            "25\n"
          ]
        }
      ]
    },
    {
      "cell_type": "code",
      "source": [
        "#Checking the daa type of the values inn the array\n",
        "print(c.dtype)"
      ],
      "metadata": {
        "colab": {
          "base_uri": "https://localhost:8080/"
        },
        "id": "OkaaYca_VtzC",
        "outputId": "8656d050-bc59-4744-cb74-3e4e94e34ed8"
      },
      "execution_count": 44,
      "outputs": [
        {
          "output_type": "stream",
          "name": "stdout",
          "text": [
            "int64\n"
          ]
        }
      ]
    },
    {
      "cell_type": "markdown",
      "source": [
        "Mathematical Operations on a np array"
      ],
      "metadata": {
        "id": "k45LH-BGV2sU"
      }
    },
    {
      "cell_type": "code",
      "source": [
        "list1 = [1,2,3,4,5]\n",
        "list2 = [1,2,3,4,5]\n",
        "print(list1+list2)"
      ],
      "metadata": {
        "colab": {
          "base_uri": "https://localhost:8080/"
        },
        "id": "nb8d8D3xVzyi",
        "outputId": "6012126f-b629-4665-f0c3-c14a5cf75b7e"
      },
      "execution_count": 45,
      "outputs": [
        {
          "output_type": "stream",
          "name": "stdout",
          "text": [
            "[1, 2, 3, 4, 5, 1, 2, 3, 4, 5]\n"
          ]
        }
      ]
    },
    {
      "cell_type": "code",
      "source": [
        "a = np.random.randint(1,5,(3,3))\n",
        "print('a = ' ,a)\n",
        "b = np.random.randint(1,5,(3,3))\n",
        "print('b = ' , b)"
      ],
      "metadata": {
        "colab": {
          "base_uri": "https://localhost:8080/"
        },
        "id": "n8Atrmi4iLUw",
        "outputId": "95c4b9f0-29ce-4261-b47e-a03e27ad8def"
      },
      "execution_count": 49,
      "outputs": [
        {
          "output_type": "stream",
          "name": "stdout",
          "text": [
            "a =  [[2 4 2]\n",
            " [2 4 4]\n",
            " [4 1 2]]\n",
            "b =  [[3 3 1]\n",
            " [4 3 3]\n",
            " [3 4 2]]\n"
          ]
        }
      ]
    },
    {
      "cell_type": "code",
      "source": [
        "print(a+b)\n",
        "print(a-b)\n",
        "print(a*b)\n",
        "print(a/b)\n",
        "\n",
        "# OR\n",
        "print(np.add(a,b))\n",
        "print(np.subtract(a,b))\n",
        "print(np.multiply(a,b))\n",
        "print(np.divide(a,b))\n",
        "\n"
      ],
      "metadata": {
        "colab": {
          "base_uri": "https://localhost:8080/"
        },
        "id": "YSWykme-iRTg",
        "outputId": "91da7599-d2f8-47a9-9c25-ca524bb63a13"
      },
      "execution_count": 52,
      "outputs": [
        {
          "output_type": "stream",
          "name": "stdout",
          "text": [
            "[[5 7 3]\n",
            " [6 7 7]\n",
            " [7 5 4]]\n",
            "[[-1  1  1]\n",
            " [-2  1  1]\n",
            " [ 1 -3  0]]\n",
            "[[ 6 12  2]\n",
            " [ 8 12 12]\n",
            " [12  4  4]]\n",
            "[[0.66666667 1.33333333 2.        ]\n",
            " [0.5        1.33333333 1.33333333]\n",
            " [1.33333333 0.25       1.        ]]\n",
            "[[5 7 3]\n",
            " [6 7 7]\n",
            " [7 5 4]]\n",
            "[[-1  1  1]\n",
            " [-2  1  1]\n",
            " [ 1 -3  0]]\n",
            "[[ 6 12  2]\n",
            " [ 8 12 12]\n",
            " [12  4  4]]\n",
            "[[0.66666667 1.33333333 2.        ]\n",
            " [0.5        1.33333333 1.33333333]\n",
            " [1.33333333 0.25       1.        ]]\n"
          ]
        }
      ]
    },
    {
      "cell_type": "code",
      "source": [
        "print(a)\n",
        "print(np.transpose(a))"
      ],
      "metadata": {
        "colab": {
          "base_uri": "https://localhost:8080/"
        },
        "id": "Sj4peqw5iq_h",
        "outputId": "8a35f91a-ffa8-4894-f4d2-d5701bc24b6c"
      },
      "execution_count": 56,
      "outputs": [
        {
          "output_type": "stream",
          "name": "stdout",
          "text": [
            "[[2 4 2]\n",
            " [2 4 4]\n",
            " [4 1 2]]\n",
            "[[2 2 4]\n",
            " [4 4 1]\n",
            " [2 4 2]]\n"
          ]
        }
      ]
    },
    {
      "cell_type": "code",
      "source": [
        "\n",
        "\n",
        "# reshaping a array\n",
        "a = np.random.randint(0,10,(4,3))\n",
        "print(a)\n",
        "print(a.shape)\n",
        "\n",
        "\n",
        "b = a.reshape(2,6)\n",
        "print(b)\n",
        "print(b.shape)\n",
        ""
      ],
      "metadata": {
        "colab": {
          "base_uri": "https://localhost:8080/"
        },
        "id": "EEDDrMlSjUDh",
        "outputId": "a3bf981a-9589-4730-fd64-240fba2f2b3f"
      },
      "execution_count": 57,
      "outputs": [
        {
          "output_type": "stream",
          "name": "stdout",
          "text": [
            "[[1 0 6]\n",
            " [1 2 1]\n",
            " [3 9 8]\n",
            " [0 2 1]]\n",
            "(4, 3)\n",
            "[[1 0 6 1 2 1]\n",
            " [3 9 8 0 2 1]]\n",
            "(2, 6)\n"
          ]
        }
      ]
    },
    {
      "cell_type": "code",
      "source": [],
      "metadata": {
        "id": "sO4iCO_ck7sA"
      },
      "execution_count": null,
      "outputs": []
    }
  ]
}