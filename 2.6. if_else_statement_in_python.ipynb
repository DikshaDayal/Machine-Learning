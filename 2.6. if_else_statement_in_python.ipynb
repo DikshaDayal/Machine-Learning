{
  "nbformat": 4,
  "nbformat_minor": 0,
  "metadata": {
    "colab": {
      "provenance": [],
      "authorship_tag": "ABX9TyPc6ZFyB42S7Vr15j0tg+uZ",
      "include_colab_link": true
    },
    "kernelspec": {
      "name": "python3",
      "display_name": "Python 3"
    },
    "language_info": {
      "name": "python"
    }
  },
  "cells": [
    {
      "cell_type": "markdown",
      "metadata": {
        "id": "view-in-github",
        "colab_type": "text"
      },
      "source": [
        "<a href=\"https://colab.research.google.com/github/DikshaDayal/Machine-Learning/blob/main/2.6.%20if_else_statement_in_python.ipynb\" target=\"_parent\"><img src=\"https://colab.research.google.com/assets/colab-badge.svg\" alt=\"Open In Colab\"/></a>"
      ]
    },
    {
      "cell_type": "markdown",
      "source": [
        "Simple If else statement"
      ],
      "metadata": {
        "id": "TMXAuxZJMSBr"
      }
    },
    {
      "cell_type": "code",
      "execution_count": 6,
      "metadata": {
        "colab": {
          "base_uri": "https://localhost:8080/"
        },
        "id": "dNf0Yk11KNzs",
        "outputId": "b130e9a3-2afd-4686-83ec-995210ac93cd"
      },
      "outputs": [
        {
          "output_type": "stream",
          "name": "stdout",
          "text": [
            "Enter the Number 45\n",
            "Enter the another Number 200\n",
            "first number is lesser than second one\n"
          ]
        }
      ],
      "source": [
        "a = int(input('Enter the Number '))\n",
        "b = int(input('Enter the another Number '))\n",
        "\n",
        "if(a>b):\n",
        "  print('first number is greater than second one')\n",
        "else:\n",
        "      print('first number is lesser than second one')"
      ]
    },
    {
      "cell_type": "code",
      "source": [
        "a = 15\n",
        "b = 25\n",
        "c = 30\n",
        "\n",
        "if (b>c):\n",
        "  print('a is the greatest number')\n",
        "elif (a>c):\n",
        "  print('b is the greatest number')\n",
        "else:\n",
        "  print('c is the greatest number')\n"
      ],
      "metadata": {
        "colab": {
          "base_uri": "https://localhost:8080/"
        },
        "id": "P0T5Hj3BNkJV",
        "outputId": "cc9b5854-d459-4a76-de92-ece6c1ac8219"
      },
      "execution_count": 8,
      "outputs": [
        {
          "output_type": "stream",
          "name": "stdout",
          "text": [
            "c is the greatest number\n"
          ]
        }
      ]
    },
    {
      "cell_type": "code",
      "source": [
        "a= 5\n",
        "b = 5\n",
        "if(a>b):\n",
        "  print(\"a is greater than b\")\n",
        "elif (a==b):\n",
        " print(\"a is equals to b\")\n",
        "else:\n",
        " print(\"a is lesser than b\")"
      ],
      "metadata": {
        "colab": {
          "base_uri": "https://localhost:8080/"
        },
        "id": "C-l83K7TPSvI",
        "outputId": "a98faaff-20bf-496a-cb91-482e8af3def5"
      },
      "execution_count": 9,
      "outputs": [
        {
          "output_type": "stream",
          "name": "stdout",
          "text": [
            "a is equals to b\n"
          ]
        }
      ]
    },
    {
      "cell_type": "code",
      "source": [],
      "metadata": {
        "id": "UhTdJ9vYQwWJ"
      },
      "execution_count": null,
      "outputs": []
    }
  ]
}