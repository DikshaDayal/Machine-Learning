{
  "nbformat": 4,
  "nbformat_minor": 0,
  "metadata": {
    "colab": {
      "provenance": [],
      "authorship_tag": "ABX9TyNyJdIzWrBOdD3E7TwJq7a5",
      "include_colab_link": true
    },
    "kernelspec": {
      "name": "python3",
      "display_name": "Python 3"
    },
    "language_info": {
      "name": "python"
    }
  },
  "cells": [
    {
      "cell_type": "markdown",
      "metadata": {
        "id": "view-in-github",
        "colab_type": "text"
      },
      "source": [
        "<a href=\"https://colab.research.google.com/github/DikshaDayal/Machine-Learning/blob/main/Basic_Data_Types_in_Python.ipynb\" target=\"_parent\"><img src=\"https://colab.research.google.com/assets/colab-badge.svg\" alt=\"Open In Colab\"/></a>"
      ]
    },
    {
      "cell_type": "code",
      "execution_count": null,
      "metadata": {
        "id": "VKl37n4UmDYV"
      },
      "outputs": [],
      "source": []
    },
    {
      "cell_type": "markdown",
      "source": [
        "Basic Data Types in Python :-  \n",
        "1. Integer\n",
        "2. Float\n",
        "3. string\n",
        "4. Boolean\n",
        "5. Complex"
      ],
      "metadata": {
        "id": "8WL5X0camMrU"
      }
    },
    {
      "cell_type": "code",
      "source": [
        "# integer\n",
        "a = 8\n",
        "print(a)"
      ],
      "metadata": {
        "colab": {
          "base_uri": "https://localhost:8080/"
        },
        "id": "6LLguQYFmhFj",
        "outputId": "2ea42e78-d5b2-4534-d57f-0bd404326128"
      },
      "execution_count": 1,
      "outputs": [
        {
          "output_type": "stream",
          "name": "stdout",
          "text": [
            "8\n"
          ]
        }
      ]
    },
    {
      "cell_type": "code",
      "source": [
        "type(a)"
      ],
      "metadata": {
        "colab": {
          "base_uri": "https://localhost:8080/"
        },
        "id": "OeJjYQddmrpL",
        "outputId": "ddfdd46d-83f5-489d-838e-961d2dadebaf"
      },
      "execution_count": 2,
      "outputs": [
        {
          "output_type": "execute_result",
          "data": {
            "text/plain": [
              "int"
            ]
          },
          "metadata": {},
          "execution_count": 2
        }
      ]
    },
    {
      "cell_type": "code",
      "source": [
        "#Floating Point\n",
        "b = 5.6\n",
        "print(b)\n",
        "type(b)"
      ],
      "metadata": {
        "colab": {
          "base_uri": "https://localhost:8080/"
        },
        "id": "UDJqD4gsmtNb",
        "outputId": "1b72a2ff-6c40-4616-d264-eb9cef934e87"
      },
      "execution_count": 3,
      "outputs": [
        {
          "output_type": "stream",
          "name": "stdout",
          "text": [
            "5.6\n"
          ]
        },
        {
          "output_type": "execute_result",
          "data": {
            "text/plain": [
              "float"
            ]
          },
          "metadata": {},
          "execution_count": 3
        }
      ]
    },
    {
      "cell_type": "code",
      "source": [
        "#complex Numbers\n",
        "c = 1 + 3j\n",
        "print(c)\n",
        "type(c)\n"
      ],
      "metadata": {
        "colab": {
          "base_uri": "https://localhost:8080/"
        },
        "id": "yiMGEQ-sm0ZL",
        "outputId": "39706ca2-4b6f-4c1c-d1e5-ee3fb7f6426a"
      },
      "execution_count": 4,
      "outputs": [
        {
          "output_type": "stream",
          "name": "stdout",
          "text": [
            "(1+3j)\n"
          ]
        },
        {
          "output_type": "execute_result",
          "data": {
            "text/plain": [
              "complex"
            ]
          },
          "metadata": {},
          "execution_count": 4
        }
      ]
    },
    {
      "cell_type": "code",
      "source": [],
      "metadata": {
        "id": "oTxOFOhxm7sb"
      },
      "execution_count": null,
      "outputs": []
    },
    {
      "cell_type": "markdown",
      "source": [
        "Conversion Of one Data type to another"
      ],
      "metadata": {
        "id": "p13TZKKim_VR"
      }
    },
    {
      "cell_type": "code",
      "source": [
        "# integer to float\n",
        "c = 8\n",
        "print(c)\n",
        "c = float(c)\n",
        "print(float(c))\n",
        "print(c)\n",
        "type(c)\n"
      ],
      "metadata": {
        "colab": {
          "base_uri": "https://localhost:8080/"
        },
        "id": "pAsqTVZHnCo7",
        "outputId": "c83c1692-afab-4c3d-9843-83c979a34632"
      },
      "execution_count": 9,
      "outputs": [
        {
          "output_type": "stream",
          "name": "stdout",
          "text": [
            "8\n",
            "8.0\n",
            "8.0\n"
          ]
        },
        {
          "output_type": "execute_result",
          "data": {
            "text/plain": [
              "float"
            ]
          },
          "metadata": {},
          "execution_count": 9
        }
      ]
    },
    {
      "cell_type": "code",
      "source": [
        "# Float to Int\n",
        "d = 8.645\n",
        "d = int(d)\n",
        "print(d)"
      ],
      "metadata": {
        "colab": {
          "base_uri": "https://localhost:8080/"
        },
        "id": "fGe3_3ldnI87",
        "outputId": "c72d36b2-f7e1-4d0f-dddc-0a44fd8bc140"
      },
      "execution_count": 15,
      "outputs": [
        {
          "output_type": "stream",
          "name": "stdout",
          "text": [
            "8\n"
          ]
        }
      ]
    },
    {
      "cell_type": "markdown",
      "source": [
        "Boolean\n"
      ],
      "metadata": {
        "id": "G67NFo9yoWuQ"
      }
    },
    {
      "cell_type": "code",
      "source": [
        "z = False\n",
        "w = True\n",
        "print(z)\n",
        "type(z)\n",
        "print(w)\n",
        "type(w)\n"
      ],
      "metadata": {
        "colab": {
          "base_uri": "https://localhost:8080/"
        },
        "id": "QnNxs4nioYHL",
        "outputId": "61125602-1dff-45a6-e768-d6f455254135"
      },
      "execution_count": 23,
      "outputs": [
        {
          "output_type": "stream",
          "name": "stdout",
          "text": [
            "False\n",
            "True\n"
          ]
        },
        {
          "output_type": "execute_result",
          "data": {
            "text/plain": [
              "bool"
            ]
          },
          "metadata": {},
          "execution_count": 23
        }
      ]
    },
    {
      "cell_type": "code",
      "source": [
        "a = 25\n",
        "b = 25\n",
        "comp = a==b\n",
        "print(comp)"
      ],
      "metadata": {
        "colab": {
          "base_uri": "https://localhost:8080/"
        },
        "id": "r1D9yaZlokrL",
        "outputId": "83c34962-6755-44ca-c143-4a872c21e77c"
      },
      "execution_count": 26,
      "outputs": [
        {
          "output_type": "stream",
          "name": "stdout",
          "text": [
            "True\n"
          ]
        }
      ]
    },
    {
      "cell_type": "markdown",
      "source": [
        "String\n"
      ],
      "metadata": {
        "id": "Zujun8yQpfIH"
      }
    },
    {
      "cell_type": "code",
      "source": [
        "print(\"Machine learning course\")"
      ],
      "metadata": {
        "colab": {
          "base_uri": "https://localhost:8080/"
        },
        "id": "yFD9EUsjpf46",
        "outputId": "11be58c8-ee7e-4746-9ed9-44ec9b1a521d"
      },
      "execution_count": 27,
      "outputs": [
        {
          "output_type": "stream",
          "name": "stdout",
          "text": [
            "Machine learning course\n"
          ]
        }
      ]
    },
    {
      "cell_type": "code",
      "source": [
        "my_string = \"Diksha Dayal\"\n",
        "print(my_string)\n",
        "type(my_string)"
      ],
      "metadata": {
        "colab": {
          "base_uri": "https://localhost:8080/"
        },
        "id": "iQFsEwxSplEL",
        "outputId": "4df03ff2-3373-4657-a51e-cc7e327e998f"
      },
      "execution_count": 28,
      "outputs": [
        {
          "output_type": "stream",
          "name": "stdout",
          "text": [
            "Diksha Dayal\n"
          ]
        },
        {
          "output_type": "execute_result",
          "data": {
            "text/plain": [
              "str"
            ]
          },
          "metadata": {},
          "execution_count": 28
        }
      ]
    },
    {
      "cell_type": "code",
      "source": [
        "print(\"Hello Users \" * 5)\n"
      ],
      "metadata": {
        "colab": {
          "base_uri": "https://localhost:8080/"
        },
        "id": "-9KodMNbpwAN",
        "outputId": "f3efd15c-a14f-4acb-efe7-e51a398f6a9e"
      },
      "execution_count": 30,
      "outputs": [
        {
          "output_type": "stream",
          "name": "stdout",
          "text": [
            "Hello Users Hello Users Hello Users Hello Users Hello Users \n"
          ]
        }
      ]
    },
    {
      "cell_type": "markdown",
      "source": [
        "Slicing"
      ],
      "metadata": {
        "id": "G-uRizUXp6v-"
      }
    },
    {
      "cell_type": "code",
      "source": [
        "my_string = \"Programming\"\n",
        "print(my_string[1:5])     #value fron index i to n-1 will be slice"
      ],
      "metadata": {
        "colab": {
          "base_uri": "https://localhost:8080/"
        },
        "id": "w-E3NHKNp-Dq",
        "outputId": "edd44334-e512-4772-ce31-9abb39bc65d2"
      },
      "execution_count": 32,
      "outputs": [
        {
          "output_type": "stream",
          "name": "stdout",
          "text": [
            "rogr\n"
          ]
        }
      ]
    },
    {
      "cell_type": "code",
      "source": [
        "#step\n",
        "print(my_string[0:10:2])"
      ],
      "metadata": {
        "colab": {
          "base_uri": "https://localhost:8080/"
        },
        "id": "P5JkvozPqSMr",
        "outputId": "5b8ea452-af42-41f5-d4f5-d06d602504d4"
      },
      "execution_count": 33,
      "outputs": [
        {
          "output_type": "stream",
          "name": "stdout",
          "text": [
            "Pormi\n"
          ]
        }
      ]
    },
    {
      "cell_type": "code",
      "source": [
        "# string Concatination\n",
        "word_1 = \"Machine\"\n",
        "word_2 = \" Learning\"\n",
        "word_res = word_1 + word_2;\n",
        "print(word_res)"
      ],
      "metadata": {
        "colab": {
          "base_uri": "https://localhost:8080/"
        },
        "id": "wRU62N6Tqslc",
        "outputId": "093dc8d1-6fc2-4bcb-e76a-0b3a42d26692"
      },
      "execution_count": 35,
      "outputs": [
        {
          "output_type": "stream",
          "name": "stdout",
          "text": [
            "Machine Learning\n"
          ]
        }
      ]
    }
  ]
}