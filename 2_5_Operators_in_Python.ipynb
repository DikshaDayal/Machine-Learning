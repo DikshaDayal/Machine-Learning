{
  "nbformat": 4,
  "nbformat_minor": 0,
  "metadata": {
    "colab": {
      "provenance": [],
      "authorship_tag": "ABX9TyM9bfJcIIQ0zP7wpvdWuNeA",
      "include_colab_link": true
    },
    "kernelspec": {
      "name": "python3",
      "display_name": "Python 3"
    },
    "language_info": {
      "name": "python"
    }
  },
  "cells": [
    {
      "cell_type": "markdown",
      "metadata": {
        "id": "view-in-github",
        "colab_type": "text"
      },
      "source": [
        "<a href=\"https://colab.research.google.com/github/DikshaDayal/Machine-Learning/blob/main/2_5_Operators_in_Python.ipynb\" target=\"_parent\"><img src=\"https://colab.research.google.com/assets/colab-badge.svg\" alt=\"Open In Colab\"/></a>"
      ]
    },
    {
      "cell_type": "markdown",
      "source": [
        "Operators in Python\n",
        "1. Arithmatic Operator\n",
        "2. Assignmnet Operator\n",
        "3. Comparison operator\n",
        "4. Logical Operator\n",
        "5. Identity Operator\n",
        "6. Membership Operator\n"
      ],
      "metadata": {
        "id": "GGDd_A5_zhS9"
      }
    },
    {
      "cell_type": "markdown",
      "source": [
        "1. Arithmatic Operators"
      ],
      "metadata": {
        "id": "pdr0CFdjCOS-"
      }
    },
    {
      "cell_type": "code",
      "source": [
        "num1 = 20\n",
        "num2 = 30\n",
        "#addition\n",
        "print('Addition' , num1+num2)\n",
        "#subtraction\n",
        "print('Subtraction' , num1-num2)\n",
        "print('Subtraction' ,num2-num1)\n",
        "#Multiplication\n",
        "print('Multiplication' ,num1*num2)\n",
        "#division\n",
        "print('Division' ,num1/num2)\n",
        "print('Division' ,num2/num1)\n",
        "#Modulo\n",
        "print('Modulo' ,num1%num2)\n",
        "print('Modulo' ,num2%num1)\n",
        "#Exponent\n",
        "print('Exponent' , num1**num2)\n",
        "print('Exponent' , num2**num1)\n",
        "\n"
      ],
      "metadata": {
        "colab": {
          "base_uri": "https://localhost:8080/"
        },
        "collapsed": true,
        "id": "r1ffhnwfCNSp",
        "outputId": "2f2f7498-0480-4fb7-a425-5dcf46650e5e"
      },
      "execution_count": 4,
      "outputs": [
        {
          "output_type": "stream",
          "name": "stdout",
          "text": [
            "Addition 50\n",
            "Subtraction -10\n",
            "Subtraction 10\n",
            "Multiplication 600\n",
            "Division 0.6666666666666666\n",
            "Division 1.5\n",
            "Modulo 20\n",
            "Modulo 10\n",
            "Exponent 1073741824000000000000000000000000000000\n",
            "Exponent 348678440100000000000000000000\n"
          ]
        }
      ]
    },
    {
      "cell_type": "markdown",
      "source": [
        "2. Assignmnet Operators\n",
        "-=\n",
        "+=\n",
        "*=\n",
        "/=\n",
        "**=\n",
        "%=\n"
      ],
      "metadata": {
        "id": "GzAbAbcZD--Y"
      }
    },
    {
      "cell_type": "code",
      "source": [
        "a = 5\n",
        "a+=5\n",
        "print(a)  # a = 10\n",
        "a-=5\n",
        "print(a)  # a = 5\n",
        "a*=5\n",
        "print(a)  # a = 25\n",
        "a/=5\n",
        "print(a)  # a = 5\n",
        "a%=5\n",
        "print(a)  # a = 0\n",
        "a/=5\n",
        "print(a)  # a = 0"
      ],
      "metadata": {
        "colab": {
          "base_uri": "https://localhost:8080/"
        },
        "id": "p12JzzOCCe8m",
        "outputId": "a27f3e51-3248-44c8-92ba-c1bad6a7c2c1"
      },
      "execution_count": 5,
      "outputs": [
        {
          "output_type": "stream",
          "name": "stdout",
          "text": [
            "10\n",
            "5\n",
            "25\n",
            "5.0\n",
            "0.0\n",
            "0.0\n"
          ]
        }
      ]
    },
    {
      "cell_type": "markdown",
      "source": [
        "3. Comparison Operator"
      ],
      "metadata": {
        "id": "oEz9kHgIFPCg"
      }
    },
    {
      "cell_type": "code",
      "source": [
        "a = 10\n",
        "b = 20\n",
        "print(a==b)\n",
        "print(a!=b)\n",
        "print(a>=b)\n",
        "print(a<=b)\n",
        "print(a>b)\n",
        "print(a<b)\n"
      ],
      "metadata": {
        "colab": {
          "base_uri": "https://localhost:8080/"
        },
        "id": "FiF66jGPFLlK",
        "outputId": "04734cae-034c-4686-defa-13e03c244208"
      },
      "execution_count": 6,
      "outputs": [
        {
          "output_type": "stream",
          "name": "stdout",
          "text": [
            "False\n",
            "True\n",
            "False\n",
            "True\n",
            "False\n",
            "True\n"
          ]
        }
      ]
    },
    {
      "cell_type": "markdown",
      "source": [
        "4. Logical Operators\n",
        "And , or , not , xor"
      ],
      "metadata": {
        "id": "Ga_915Z-FhEj"
      }
    },
    {
      "cell_type": "code",
      "source": [
        "a = 2\n",
        "b = 3\n",
        "print(a&b)\n",
        "print(a|b)\n",
        "print(~b)\n",
        "print(~a)\n",
        "print(a^b)\n",
        "print (a<b and a>=2)\n",
        "print (a>b or a>=2)\n",
        "print (not(a<b and a>=2))\n",
        "\n",
        "\n",
        "\n"
      ],
      "metadata": {
        "colab": {
          "base_uri": "https://localhost:8080/"
        },
        "id": "K_Ot_ASCFcjR",
        "outputId": "cdf3a3da-2cd9-49ba-e5e7-edec118673dc"
      },
      "execution_count": 11,
      "outputs": [
        {
          "output_type": "stream",
          "name": "stdout",
          "text": [
            "2\n",
            "3\n",
            "-4\n",
            "-3\n",
            "1\n",
            "True\n",
            "True\n",
            "False\n"
          ]
        }
      ]
    },
    {
      "cell_type": "markdown",
      "source": [
        "5. Identity Operators"
      ],
      "metadata": {
        "id": "pWdT-wfQHzMn"
      }
    },
    {
      "cell_type": "code",
      "source": [
        "a = 5\n",
        "b = 5\n",
        "print(a is b)\n",
        "print(a is  not b)\n",
        "a = 5\n",
        "b = 10\n",
        "print(a is b)\n",
        "print(a is  not b)\n"
      ],
      "metadata": {
        "colab": {
          "base_uri": "https://localhost:8080/"
        },
        "id": "CEBz8mWLFuxY",
        "outputId": "c0106856-8b2c-48a9-9abb-fb6088a27e2d"
      },
      "execution_count": 12,
      "outputs": [
        {
          "output_type": "stream",
          "name": "stdout",
          "text": [
            "True\n",
            "False\n",
            "False\n",
            "True\n"
          ]
        }
      ]
    },
    {
      "cell_type": "markdown",
      "source": [
        "6. Membership Operators"
      ],
      "metadata": {
        "id": "z1HwRFatI1nj"
      }
    },
    {
      "cell_type": "code",
      "source": [
        "a = 5\n",
        "b = 10\n",
        "c = [1,2,3,4,5]\n",
        "print(a in c)\n",
        "print(b in c)\n",
        "print(a not in c)\n",
        "print(b not in c)"
      ],
      "metadata": {
        "colab": {
          "base_uri": "https://localhost:8080/"
        },
        "id": "FPCLmgRPIynI",
        "outputId": "96552296-3e46-4dc8-92a5-44d7c05ae995"
      },
      "execution_count": 13,
      "outputs": [
        {
          "output_type": "stream",
          "name": "stdout",
          "text": [
            "True\n",
            "False\n",
            "False\n",
            "True\n"
          ]
        }
      ]
    },
    {
      "cell_type": "code",
      "source": [],
      "metadata": {
        "id": "cVb4bgebJzxk"
      },
      "execution_count": null,
      "outputs": []
    }
  ]
}