{
  "nbformat": 4,
  "nbformat_minor": 0,
  "metadata": {
    "colab": {
      "provenance": [],
      "authorship_tag": "ABX9TyMJ54WJc29kWhEoshfMF/tk",
      "include_colab_link": true
    },
    "kernelspec": {
      "name": "python3",
      "display_name": "Python 3"
    },
    "language_info": {
      "name": "python"
    }
  },
  "cells": [
    {
      "cell_type": "markdown",
      "metadata": {
        "id": "view-in-github",
        "colab_type": "text"
      },
      "source": [
        "<a href=\"https://colab.research.google.com/github/DikshaDayal/Machine-Learning/blob/main/List_Tuple_Set_Dictionary.ipynb\" target=\"_parent\"><img src=\"https://colab.research.google.com/assets/colab-badge.svg\" alt=\"Open In Colab\"/></a>"
      ]
    },
    {
      "cell_type": "markdown",
      "source": [
        "Types of Objects in Pyton\n",
        "1. Immutable Objects (Whose Value Can be changed once it created)\n",
        "2. Mutable Objects (Whose Value Can't be changed once it created)\n",
        "\n",
        "Immutable Objects:\n",
        "1. int\n",
        "2. float\n",
        "3. string\n",
        "4. bool\n",
        "5. tuple\n",
        "\n",
        "\n",
        "Mutuable object\n",
        "1. List\n",
        "2. set\n",
        "3. Dictionary"
      ],
      "metadata": {
        "id": "Kmo_aksrsJVe"
      }
    },
    {
      "cell_type": "markdown",
      "source": [
        "List"
      ],
      "metadata": {
        "id": "LRYOgeH8ssJZ"
      }
    },
    {
      "cell_type": "code",
      "source": [
        "# List Should be included in square bracket and it can have multiple data types\n",
        "a = [1,2,3,4,5]\n",
        "print(a)\n",
        "type(a)"
      ],
      "metadata": {
        "colab": {
          "base_uri": "https://localhost:8080/"
        },
        "id": "ozAqqfzDsvL6",
        "outputId": "82a3981f-41f1-4f4c-a4f7-731891607124"
      },
      "execution_count": 1,
      "outputs": [
        {
          "output_type": "stream",
          "name": "stdout",
          "text": [
            "[1, 2, 3, 4, 5]\n"
          ]
        },
        {
          "output_type": "execute_result",
          "data": {
            "text/plain": [
              "list"
            ]
          },
          "metadata": {},
          "execution_count": 1
        }
      ]
    },
    {
      "cell_type": "code",
      "source": [
        "print(a[1])  #Access any data type\n",
        "# print(a[5]) Index out of range : Error"
      ],
      "metadata": {
        "colab": {
          "base_uri": "https://localhost:8080/"
        },
        "id": "7LQjh9dCtAD3",
        "outputId": "efbfe489-475d-4797-9017-1b2d2d1032dd"
      },
      "execution_count": 7,
      "outputs": [
        {
          "output_type": "stream",
          "name": "stdout",
          "text": [
            "2\n"
          ]
        }
      ]
    },
    {
      "cell_type": "code",
      "source": [
        "b = [5.0 , \"Diksha\" , 69 , False]\n",
        "print(b)"
      ],
      "metadata": {
        "colab": {
          "base_uri": "https://localhost:8080/"
        },
        "id": "Ha6_KA1ItITP",
        "outputId": "668fbadc-08ba-4ce8-d226-38f292226292"
      },
      "execution_count": 3,
      "outputs": [
        {
          "output_type": "stream",
          "name": "stdout",
          "text": [
            "[5.0, 'Diksha', 69, False]\n"
          ]
        }
      ]
    },
    {
      "cell_type": "code",
      "source": [
        "b[0] = 45.2  # List is Mutable\n",
        "print(b)"
      ],
      "metadata": {
        "colab": {
          "base_uri": "https://localhost:8080/"
        },
        "id": "SgOTzeuZtXTL",
        "outputId": "535ebacb-b551-4367-cb3d-4252e4922c77"
      },
      "execution_count": 4,
      "outputs": [
        {
          "output_type": "stream",
          "name": "stdout",
          "text": [
            "[45.2, 'Diksha', 69, False]\n"
          ]
        }
      ]
    },
    {
      "cell_type": "code",
      "source": [
        "#add elements to list\n",
        "b.append(\"Determined\")\n",
        "print(b)"
      ],
      "metadata": {
        "colab": {
          "base_uri": "https://localhost:8080/"
        },
        "id": "fT_9hH-ctdP7",
        "outputId": "eb2d39d8-59b1-4fa6-94c9-2a6cfbe492b2"
      },
      "execution_count": 5,
      "outputs": [
        {
          "output_type": "stream",
          "name": "stdout",
          "text": [
            "[45.2, 'Diksha', 69, False, 'Determined']\n"
          ]
        }
      ]
    },
    {
      "cell_type": "code",
      "source": [
        "#Lists Allow Duplicate Values\n",
        "c = [7,8,2,7,8,9,0,4,0,8]\n",
        "print(c)"
      ],
      "metadata": {
        "colab": {
          "base_uri": "https://localhost:8080/"
        },
        "id": "SoNqm_d5ttY6",
        "outputId": "48684947-9f50-4924-803e-932497d2133c"
      },
      "execution_count": 8,
      "outputs": [
        {
          "output_type": "stream",
          "name": "stdout",
          "text": [
            "[7, 8, 2, 7, 8, 9, 0, 4, 0, 8]\n"
          ]
        }
      ]
    },
    {
      "cell_type": "code",
      "source": [
        "# Print the Length of the C List\n",
        "print(len(c))"
      ],
      "metadata": {
        "colab": {
          "base_uri": "https://localhost:8080/"
        },
        "id": "XHTXnAmIuKxr",
        "outputId": "8ad26874-2aea-4dd9-bfe6-d965e06536c8"
      },
      "execution_count": 11,
      "outputs": [
        {
          "output_type": "stream",
          "name": "stdout",
          "text": [
            "10\n"
          ]
        }
      ]
    },
    {
      "cell_type": "code",
      "source": [
        "#Initiating an Empty List\n",
        "d = []\n",
        "print(d)\n",
        "d.append(5)\n",
        "print(d)\n"
      ],
      "metadata": {
        "colab": {
          "base_uri": "https://localhost:8080/"
        },
        "id": "L7YbWRNXuP7r",
        "outputId": "ea141ed4-71bb-42ea-cfa8-22f802439d46"
      },
      "execution_count": 13,
      "outputs": [
        {
          "output_type": "stream",
          "name": "stdout",
          "text": [
            "[]\n",
            "[5]\n"
          ]
        }
      ]
    },
    {
      "cell_type": "code",
      "source": [
        "#delete the items in a list\n",
        "c = [7,8,2,7,8,9,0,4,0,8]\n",
        "del c[2]\n",
        "print(c)\n"
      ],
      "metadata": {
        "colab": {
          "base_uri": "https://localhost:8080/"
        },
        "id": "63kksT0guisK",
        "outputId": "8bd16f19-6c74-4b3d-83a5-02df2cfee664"
      },
      "execution_count": 17,
      "outputs": [
        {
          "output_type": "stream",
          "name": "stdout",
          "text": [
            "[7, 8, 7, 8, 9, 0, 4, 0, 8]\n"
          ]
        }
      ]
    },
    {
      "cell_type": "code",
      "source": [
        "# Join the List\n",
        "x = [1 ,2,3]\n",
        "y = [7,8,9]\n",
        "z = x + y\n",
        "print(z)\n"
      ],
      "metadata": {
        "colab": {
          "base_uri": "https://localhost:8080/"
        },
        "id": "6PZa9u-luwcr",
        "outputId": "da18461e-4f67-49c0-801f-6200f8a05a19"
      },
      "execution_count": 19,
      "outputs": [
        {
          "output_type": "stream",
          "name": "stdout",
          "text": [
            "[1, 2, 3, 7, 8, 9]\n"
          ]
        }
      ]
    },
    {
      "cell_type": "markdown",
      "source": [
        "Tuple\n"
      ],
      "metadata": {
        "id": "K-uYD0ikvQ99"
      }
    },
    {
      "cell_type": "code",
      "source": [
        "tuple_1 = (1,2,3,4)\n",
        "print(tuple_1)\n",
        "type(tuple_1)"
      ],
      "metadata": {
        "colab": {
          "base_uri": "https://localhost:8080/"
        },
        "id": "bVADYcmgvSOb",
        "outputId": "21b8eb3e-e2e4-49e7-b8b1-2800eae3f0f9"
      },
      "execution_count": 20,
      "outputs": [
        {
          "output_type": "stream",
          "name": "stdout",
          "text": [
            "(1, 2, 3, 4)\n"
          ]
        },
        {
          "output_type": "execute_result",
          "data": {
            "text/plain": [
              "tuple"
            ]
          },
          "metadata": {},
          "execution_count": 20
        }
      ]
    },
    {
      "cell_type": "code",
      "source": [
        "# tuple allows multiple data types\n",
        "tuple_2 = (1,2,2,1,2,1)\n",
        "print(tuple_2)"
      ],
      "metadata": {
        "colab": {
          "base_uri": "https://localhost:8080/"
        },
        "id": "7Ssk-UY2vfgs",
        "outputId": "2a72c6ad-b21b-4760-bd65-4bbcb86a0fbe"
      },
      "execution_count": 22,
      "outputs": [
        {
          "output_type": "stream",
          "name": "stdout",
          "text": [
            "(1, 2, 2, 1, 2, 1)\n"
          ]
        }
      ]
    },
    {
      "cell_type": "code",
      "source": [
        "#converting list to Tuple\n",
        "my_list = [1,2,3,4,5]\n",
        "print(my_list)\n",
        "my_tuple = tuple(my_list)\n",
        "print(my_tuple)"
      ],
      "metadata": {
        "colab": {
          "base_uri": "https://localhost:8080/"
        },
        "id": "rsR_Gdt6vpDL",
        "outputId": "39e41283-6916-467c-ea95-0bfffa72db86"
      },
      "execution_count": 23,
      "outputs": [
        {
          "output_type": "stream",
          "name": "stdout",
          "text": [
            "[1, 2, 3, 4, 5]\n",
            "(1, 2, 3, 4, 5)\n"
          ]
        }
      ]
    },
    {
      "cell_type": "code",
      "source": [
        "print(my_tuple[0])"
      ],
      "metadata": {
        "colab": {
          "base_uri": "https://localhost:8080/"
        },
        "id": "jElEb0D2wAfb",
        "outputId": "0e0dda9f-c161-4d7d-e488-3fb454b6fda6"
      },
      "execution_count": 24,
      "outputs": [
        {
          "output_type": "stream",
          "name": "stdout",
          "text": [
            "1\n"
          ]
        }
      ]
    },
    {
      "cell_type": "markdown",
      "source": [
        "Tuples are Immutable ---> unchangable"
      ],
      "metadata": {
        "id": "NvRxSVZBwNg0"
      }
    },
    {
      "cell_type": "code",
      "source": [
        "my_tuple.append(2)"
      ],
      "metadata": {
        "colab": {
          "base_uri": "https://localhost:8080/",
          "height": 141
        },
        "id": "erFwD0E2wTA0",
        "outputId": "78911b2a-6e28-40d4-85c3-264a9ba245c1"
      },
      "execution_count": 26,
      "outputs": [
        {
          "output_type": "error",
          "ename": "AttributeError",
          "evalue": "'tuple' object has no attribute 'append'",
          "traceback": [
            "\u001b[0;31m---------------------------------------------------------------------------\u001b[0m",
            "\u001b[0;31mAttributeError\u001b[0m                            Traceback (most recent call last)",
            "\u001b[0;32m<ipython-input-26-f14e6d9500d6>\u001b[0m in \u001b[0;36m<cell line: 1>\u001b[0;34m()\u001b[0m\n\u001b[0;32m----> 1\u001b[0;31m \u001b[0mmy_tuple\u001b[0m\u001b[0;34m.\u001b[0m\u001b[0mappend\u001b[0m\u001b[0;34m(\u001b[0m\u001b[0;36m2\u001b[0m\u001b[0;34m)\u001b[0m\u001b[0;34m\u001b[0m\u001b[0;34m\u001b[0m\u001b[0m\n\u001b[0m",
            "\u001b[0;31mAttributeError\u001b[0m: 'tuple' object has no attribute 'append'"
          ]
        }
      ]
    },
    {
      "cell_type": "code",
      "source": [
        "print(len(my_tuple))"
      ],
      "metadata": {
        "colab": {
          "base_uri": "https://localhost:8080/"
        },
        "id": "PLYLjcvYwWM8",
        "outputId": "cb51f1de-99cd-4f10-e28f-7aaa1186ae99"
      },
      "execution_count": 27,
      "outputs": [
        {
          "output_type": "stream",
          "name": "stdout",
          "text": [
            "5\n"
          ]
        }
      ]
    },
    {
      "cell_type": "markdown",
      "source": [
        "Set\n"
      ],
      "metadata": {
        "id": "yWgFtV37wc9O"
      }
    },
    {
      "cell_type": "code",
      "source": [
        "# set ----> Curly Brackets\n",
        "my_set = {1,3,2,5}\n",
        "print(my_set)\n",
        "type(my_set)"
      ],
      "metadata": {
        "colab": {
          "base_uri": "https://localhost:8080/"
        },
        "id": "eiRVXcTIweBq",
        "outputId": "4b8c8dcb-c660-441d-cac8-9aff54c6e76c"
      },
      "execution_count": 29,
      "outputs": [
        {
          "output_type": "stream",
          "name": "stdout",
          "text": [
            "{1, 2, 3, 5}\n"
          ]
        },
        {
          "output_type": "execute_result",
          "data": {
            "text/plain": [
              "set"
            ]
          },
          "metadata": {},
          "execution_count": 29
        }
      ]
    },
    {
      "cell_type": "code",
      "source": [
        "#set Doesn't suport indexing\n",
        "my_set[0]"
      ],
      "metadata": {
        "colab": {
          "base_uri": "https://localhost:8080/",
          "height": 159
        },
        "id": "XrAwp0WowiVK",
        "outputId": "30a695ef-ef7b-4e54-aa76-4f8455f65767"
      },
      "execution_count": 30,
      "outputs": [
        {
          "output_type": "error",
          "ename": "TypeError",
          "evalue": "'set' object is not subscriptable",
          "traceback": [
            "\u001b[0;31m---------------------------------------------------------------------------\u001b[0m",
            "\u001b[0;31mTypeError\u001b[0m                                 Traceback (most recent call last)",
            "\u001b[0;32m<ipython-input-30-11ca06f2fe37>\u001b[0m in \u001b[0;36m<cell line: 2>\u001b[0;34m()\u001b[0m\n\u001b[1;32m      1\u001b[0m \u001b[0;31m#set Doesn't suport indexing\u001b[0m\u001b[0;34m\u001b[0m\u001b[0;34m\u001b[0m\u001b[0m\n\u001b[0;32m----> 2\u001b[0;31m \u001b[0mmy_set\u001b[0m\u001b[0;34m[\u001b[0m\u001b[0;36m0\u001b[0m\u001b[0;34m]\u001b[0m\u001b[0;34m\u001b[0m\u001b[0;34m\u001b[0m\u001b[0m\n\u001b[0m",
            "\u001b[0;31mTypeError\u001b[0m: 'set' object is not subscriptable"
          ]
        }
      ]
    },
    {
      "cell_type": "code",
      "source": [
        "# converting list to Set\n",
        "my_List1 = [1,2,3,4,5,5]\n",
        "my_set = set(my_List1)\n",
        "print(my_set)"
      ],
      "metadata": {
        "colab": {
          "base_uri": "https://localhost:8080/"
        },
        "id": "apTCZLzHw15K",
        "outputId": "76b31169-0529-4779-9215-7e5b6fb88ccf"
      },
      "execution_count": 32,
      "outputs": [
        {
          "output_type": "stream",
          "name": "stdout",
          "text": [
            "{1, 2, 3, 4, 5}\n"
          ]
        }
      ]
    },
    {
      "cell_type": "code",
      "source": [
        "# set doesn't allows Duplicates\n",
        "my_Set1 = {1,2,2,5,6,5,5}\n",
        "print(my_Set1)"
      ],
      "metadata": {
        "colab": {
          "base_uri": "https://localhost:8080/"
        },
        "id": "8XwyqXFPxANa",
        "outputId": "614b2f6c-37fe-4191-9799-049d8c55c741"
      },
      "execution_count": 33,
      "outputs": [
        {
          "output_type": "stream",
          "name": "stdout",
          "text": [
            "{1, 2, 5, 6}\n"
          ]
        }
      ]
    },
    {
      "cell_type": "markdown",
      "source": [
        "Dictionary\n",
        "(Key-Value Pair)"
      ],
      "metadata": {
        "id": "k9WVfOpWxWOq"
      }
    },
    {
      "cell_type": "code",
      "source": [
        "my_dictionary = {'name' : 'Diksha' , 'age' : 20 , 'country' : 'India'}\n",
        "print(my_dictionary)\n",
        "type(my_dictionary)"
      ],
      "metadata": {
        "colab": {
          "base_uri": "https://localhost:8080/"
        },
        "id": "4-A5aOZ0xXmN",
        "outputId": "7368970c-9104-40f3-bbcf-d25a55f7bca5"
      },
      "execution_count": 34,
      "outputs": [
        {
          "output_type": "stream",
          "name": "stdout",
          "text": [
            "{'name': 'Diksha', 'age': 20, 'country': 'India'}\n"
          ]
        },
        {
          "output_type": "execute_result",
          "data": {
            "text/plain": [
              "dict"
            ]
          },
          "metadata": {},
          "execution_count": 34
        }
      ]
    },
    {
      "cell_type": "code",
      "source": [
        "print(my_dictionary['name'])\n",
        "print(my_dictionary['age'])\n",
        "print(my_dictionary['country'])\n"
      ],
      "metadata": {
        "colab": {
          "base_uri": "https://localhost:8080/"
        },
        "id": "sFPRjAkMxzyq",
        "outputId": "6d2e2942-d3bc-4669-c8ee-2d22fe85bb51"
      },
      "execution_count": 37,
      "outputs": [
        {
          "output_type": "stream",
          "name": "stdout",
          "text": [
            "Diksha\n",
            "20\n",
            "India\n"
          ]
        }
      ]
    },
    {
      "cell_type": "code",
      "source": [
        "# dictionary doesn't Allows duplicate values\n",
        "my_dictionary2 = {'name' : 'Diksha' , 'age' : 20 , 'country' : 'India' , 'name':'Dayal'}\n",
        "print(my_dictionary2)"
      ],
      "metadata": {
        "colab": {
          "base_uri": "https://localhost:8080/"
        },
        "id": "UzaZLl0px5vq",
        "outputId": "c7cd803c-438e-4f3a-871b-e1782bbcf1b9"
      },
      "execution_count": 39,
      "outputs": [
        {
          "output_type": "stream",
          "name": "stdout",
          "text": [
            "{'name': 'Dayal', 'age': 20, 'country': 'India'}\n"
          ]
        }
      ]
    },
    {
      "cell_type": "code",
      "source": [],
      "metadata": {
        "id": "W-3hcuwByeR6"
      },
      "execution_count": null,
      "outputs": []
    }
  ]
}
