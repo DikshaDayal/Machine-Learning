{
  "nbformat": 4,
  "nbformat_minor": 0,
  "metadata": {
    "colab": {
      "provenance": [],
      "authorship_tag": "ABX9TyOsmOItqDsLSxM4GdfGP4Tu",
      "include_colab_link": true
    },
    "kernelspec": {
      "name": "python3",
      "display_name": "Python 3"
    },
    "language_info": {
      "name": "python"
    }
  },
  "cells": [
    {
      "cell_type": "markdown",
      "metadata": {
        "id": "view-in-github",
        "colab_type": "text"
      },
      "source": [
        "<a href=\"https://colab.research.google.com/github/DikshaDayal/Machine-Learning/blob/main/2_8_Functions_In_python.ipynb\" target=\"_parent\"><img src=\"https://colab.research.google.com/assets/colab-badge.svg\" alt=\"Open In Colab\"/></a>"
      ]
    },
    {
      "cell_type": "markdown",
      "source": [
        "Function\n",
        "Function is a block of program that can be reused again n again when called."
      ],
      "metadata": {
        "id": "DUMg0HckwFAA"
      }
    },
    {
      "cell_type": "markdown",
      "source": [
        "#Factorial of a number"
      ],
      "metadata": {
        "id": "Q88RR5y1wO3w"
      }
    },
    {
      "cell_type": "code",
      "execution_count": 3,
      "metadata": {
        "id": "fyaePPMxUEzy",
        "colab": {
          "base_uri": "https://localhost:8080/"
        },
        "outputId": "a95dbf93-ff14-43e1-c98e-68bc499cdb5c"
      },
      "outputs": [
        {
          "output_type": "stream",
          "name": "stdout",
          "text": [
            "Enter the number to find its factorial :- 5\n",
            "The factorial of  5 is :-  120\n"
          ]
        }
      ],
      "source": [
        "number = int(input('Enter the number to find its factorial :- '))\n",
        "\n",
        "if(number==0):\n",
        "  print('The factorial of 0 is 1')\n",
        "else:\n",
        "    factorial = 1\n",
        "for i in range (1,number+1):\n",
        "       factorial*=i\n",
        "print('The factorial of ' , number, 'is :- ' , factorial)"
      ]
    },
    {
      "cell_type": "code",
      "source": [
        "# Faactorial Function\n",
        "def factorial_value(num):\n",
        "\n",
        "  factorial = 1\n",
        "\n",
        "  if num == 0:\n",
        "    return factorial\n",
        "\n",
        "  else:\n",
        "    for i in range(1, num+1):\n",
        "      factorial = factorial*i\n",
        "    return factorial"
      ],
      "metadata": {
        "id": "d-cwzueZxlSZ"
      },
      "execution_count": 4,
      "outputs": []
    },
    {
      "cell_type": "code",
      "source": [
        "print(factorial_value(7))"
      ],
      "metadata": {
        "colab": {
          "base_uri": "https://localhost:8080/"
        },
        "id": "kk2FyWZ_yewk",
        "outputId": "4c894dba-0dcb-4a58-c9cf-0400ba32b810"
      },
      "execution_count": 5,
      "outputs": [
        {
          "output_type": "stream",
          "name": "stdout",
          "text": [
            "5040\n"
          ]
        }
      ]
    },
    {
      "cell_type": "markdown",
      "source": [
        "#Sum of n natural Number"
      ],
      "metadata": {
        "id": "CP90cueX0sQx"
      }
    },
    {
      "cell_type": "code",
      "source": [
        "num = int(input('Enter the number to find the sum of first n natural number :- '))\n",
        "sum = 0\n",
        "for i in range(1,num+1):\n",
        "  sum+=i\n",
        "print('The sum of ' , num, 'Natural number is :- ',sum)"
      ],
      "metadata": {
        "colab": {
          "base_uri": "https://localhost:8080/"
        },
        "id": "4QBn6Uzs0vMk",
        "outputId": "06fd73f7-255b-4333-e7d0-3491412e5bf9"
      },
      "execution_count": 7,
      "outputs": [
        {
          "output_type": "stream",
          "name": "stdout",
          "text": [
            "Enter the number to find the sum of first n natural number :- 10\n",
            "The sum of  10 Natural number is :-  55\n"
          ]
        }
      ]
    },
    {
      "cell_type": "code",
      "source": [
        "def Sum(num):\n",
        "  sum = 0\n",
        "  for i in range(1,num+1):\n",
        "    sum+=i\n",
        "  return sum"
      ],
      "metadata": {
        "id": "P2ChR9i608Ep"
      },
      "execution_count": 10,
      "outputs": []
    },
    {
      "cell_type": "code",
      "source": [
        "print(Sum(10))"
      ],
      "metadata": {
        "colab": {
          "base_uri": "https://localhost:8080/"
        },
        "id": "_p9f_fig1y5U",
        "outputId": "a84020da-90a0-4d0d-ba31-96f2a6920c37"
      },
      "execution_count": 11,
      "outputs": [
        {
          "output_type": "stream",
          "name": "stdout",
          "text": [
            "55\n"
          ]
        }
      ]
    },
    {
      "cell_type": "markdown",
      "source": [
        "#Reverse a String"
      ],
      "metadata": {
        "id": "b-Z3MVCM2DXd"
      }
    },
    {
      "cell_type": "code",
      "source": [
        "def reverse(str):\n",
        "  i = 0\n",
        "  j = len(str)-1\n",
        "  str_list = list(str)\n",
        "  while(i<j):\n",
        "    str_list[i] , str_list[j] = str_list[j] ,str_list[i]\n",
        "    i+=1\n",
        "    j-=1\n",
        "  return ''.join(str_list)"
      ],
      "metadata": {
        "id": "0D1aWwY72FPj"
      },
      "execution_count": 18,
      "outputs": []
    },
    {
      "cell_type": "code",
      "source": [
        "print(reverse(\"Diksha\"))"
      ],
      "metadata": {
        "colab": {
          "base_uri": "https://localhost:8080/"
        },
        "id": "BHXZxJg73B5D",
        "outputId": "90951894-7783-4d27-ae4b-d3fc6aa8dccb"
      },
      "execution_count": 19,
      "outputs": [
        {
          "output_type": "stream",
          "name": "stdout",
          "text": [
            "ahskiD\n"
          ]
        }
      ]
    },
    {
      "cell_type": "code",
      "source": [],
      "metadata": {
        "id": "2Q_aTM4g3KR4"
      },
      "execution_count": null,
      "outputs": []
    }
  ]
}