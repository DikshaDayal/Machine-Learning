{
  "nbformat": 4,
  "nbformat_minor": 0,
  "metadata": {
    "colab": {
      "provenance": [],
      "authorship_tag": "ABX9TyNHcXw2cUW0UiCrT9RJk18M",
      "include_colab_link": true
    },
    "kernelspec": {
      "name": "python3",
      "display_name": "Python 3"
    },
    "language_info": {
      "name": "python"
    }
  },
  "cells": [
    {
      "cell_type": "markdown",
      "metadata": {
        "id": "view-in-github",
        "colab_type": "text"
      },
      "source": [
        "<a href=\"https://colab.research.google.com/github/DikshaDayal/Machine-Learning/blob/main/2.7.%20Loops_in_Python.ipynb\" target=\"_parent\"><img src=\"https://colab.research.google.com/assets/colab-badge.svg\" alt=\"Open In Colab\"/></a>"
      ]
    },
    {
      "cell_type": "markdown",
      "source": [
        "Loops\n"
      ],
      "metadata": {
        "id": "qjaCff5-Rme6"
      }
    },
    {
      "cell_type": "code",
      "execution_count": 6,
      "metadata": {
        "colab": {
          "base_uri": "https://localhost:8080/"
        },
        "id": "deVsKaO7RiV4",
        "outputId": "52b21bed-b532-46fe-800d-befd8293ccd4"
      },
      "outputs": [
        {
          "output_type": "stream",
          "name": "stdout",
          "text": [
            "Enter the Price of the Laptop : 25\n",
            "Enter the Price of the Laptop : 35\n",
            "Enter the Price of the Laptop : 45\n",
            "Enter the Price of the Laptop : 65\n",
            "Enter the Price of the Laptop : 45\n",
            "50\n",
            "100\n",
            "150\n",
            "200\n"
          ]
        }
      ],
      "source": [
        "for i in range (5):\n",
        "  laptop_price = int(input(\"Enter the Price of the Laptop : \"))\n",
        "\n",
        "\n",
        "numbers = [50, 100, 150, 200]\n",
        "\n",
        "for i in numbers:\n",
        "  print(i)\n"
      ]
    },
    {
      "cell_type": "markdown",
      "source": [
        "While Loop"
      ],
      "metadata": {
        "id": "GBv71-dSToeD"
      }
    },
    {
      "cell_type": "code",
      "source": [
        "i = 0\n",
        "while i<10:\n",
        " print(i)\n",
        " i+=1"
      ],
      "metadata": {
        "colab": {
          "base_uri": "https://localhost:8080/"
        },
        "id": "JwOb_nOcTIOU",
        "outputId": "69e4a991-39a9-4c89-d877-7a3f502a53d0"
      },
      "execution_count": 8,
      "outputs": [
        {
          "output_type": "stream",
          "name": "stdout",
          "text": [
            "0\n",
            "1\n",
            "2\n",
            "3\n",
            "4\n",
            "5\n",
            "6\n",
            "7\n",
            "8\n",
            "9\n"
          ]
        }
      ]
    },
    {
      "cell_type": "code",
      "source": [],
      "metadata": {
        "id": "x__3JZdzTvZS"
      },
      "execution_count": null,
      "outputs": []
    }
  ]
}